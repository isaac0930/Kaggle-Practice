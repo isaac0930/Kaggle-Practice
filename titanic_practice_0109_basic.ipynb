{
  "metadata": {
    "kernelspec": {
      "language": "python",
      "display_name": "Python 3",
      "name": "python3"
    },
    "language_info": {
      "name": "python",
      "version": "3.7.12",
      "mimetype": "text/x-python",
      "codemirror_mode": {
        "name": "ipython",
        "version": 3
      },
      "pygments_lexer": "ipython3",
      "nbconvert_exporter": "python",
      "file_extension": ".py"
    },
    "colab": {
      "provenance": []
    }
  },
  "nbformat_minor": 0,
  "nbformat": 4,
  "cells": [
    {
      "cell_type": "code",
      "source": [
        "# This Python 3 environment comes with many helpful analytics libraries installed\n",
        "# It is defined by the kaggle/python Docker image: https://github.com/kaggle/docker-python\n",
        "# For example, here's several helpful packages to load\n",
        "\n",
        "import numpy as np # linear algebra\n",
        "import pandas as pd # data processing, CSV file I/O (e.g. pd.read_csv)\n",
        "\n",
        "# Input data files are available in the read-only \"../input/\" directory\n",
        "# For example, running this (by clicking run or pressing Shift+Enter) will list all files under the input directory\n",
        "\n",
        "import os\n",
        "for dirname, _, filenames in os.walk('/kaggle/input'):\n",
        "    for filename in filenames:\n",
        "        print(os.path.join(dirname, filename))\n",
        "\n",
        "# You can write up to 20GB to the current directory (/kaggle/working/) that gets preserved as output when you create a version using \"Save & Run All\" \n",
        "# You can also write temporary files to /kaggle/temp/, but they won't be saved outside of the current session"
      ],
      "metadata": {
        "_uuid": "8f2839f25d086af736a60e9eeb907d3b93b6e0e5",
        "_cell_guid": "b1076dfc-b9ad-4769-8c92-a6c4dae69d19",
        "execution": {
          "iopub.status.busy": "2023-01-09T01:43:23.205689Z",
          "iopub.execute_input": "2023-01-09T01:43:23.206516Z",
          "iopub.status.idle": "2023-01-09T01:43:23.235266Z",
          "shell.execute_reply.started": "2023-01-09T01:43:23.206396Z",
          "shell.execute_reply": "2023-01-09T01:43:23.234066Z"
        },
        "trusted": true,
        "id": "lEV9-Jl2Wv1a",
        "outputId": "e0bafcff-6f7b-45d2-ffa7-c166c4904e97"
      },
      "execution_count": null,
      "outputs": [
        {
          "name": "stdout",
          "text": "/kaggle/input/titanic/train.csv\n/kaggle/input/titanic/test.csv\n/kaggle/input/titanic/gender_submission.csv\n",
          "output_type": "stream"
        }
      ]
    },
    {
      "cell_type": "code",
      "source": [
        "import numpy as np\n",
        "import pandas as pd\n",
        "\n",
        "train = pd.read_csv('/kaggle/input/titanic/train.csv')\n",
        "test = pd.read_csv('/kaggle/input/titanic/test.csv')\n",
        "\n",
        "train_x = train.drop(['Survived'], axis=1)\n",
        "train_y = train['Survived']\n",
        "\n",
        "test_x = test.copy()"
      ],
      "metadata": {
        "execution": {
          "iopub.status.busy": "2023-01-09T02:06:42.079818Z",
          "iopub.execute_input": "2023-01-09T02:06:42.080211Z",
          "iopub.status.idle": "2023-01-09T02:06:42.099181Z",
          "shell.execute_reply.started": "2023-01-09T02:06:42.080169Z",
          "shell.execute_reply": "2023-01-09T02:06:42.097739Z"
        },
        "trusted": true,
        "id": "rvqgBqGeWv1d"
      },
      "execution_count": null,
      "outputs": []
    },
    {
      "cell_type": "code",
      "source": [
        "train.head()"
      ],
      "metadata": {
        "execution": {
          "iopub.status.busy": "2023-01-09T01:49:29.207261Z",
          "iopub.execute_input": "2023-01-09T01:49:29.207887Z",
          "iopub.status.idle": "2023-01-09T01:49:29.224946Z",
          "shell.execute_reply.started": "2023-01-09T01:49:29.207853Z",
          "shell.execute_reply": "2023-01-09T01:49:29.223634Z"
        },
        "trusted": true,
        "id": "gFl6pKSzWv1e",
        "outputId": "87ff0f53-520e-46f3-b086-5218ce8da7c0"
      },
      "execution_count": null,
      "outputs": [
        {
          "execution_count": 7,
          "output_type": "execute_result",
          "data": {
            "text/plain": "   PassengerId  Survived  Pclass  \\\n0            1         0       3   \n1            2         1       1   \n2            3         1       3   \n3            4         1       1   \n4            5         0       3   \n\n                                                Name     Sex   Age  SibSp  \\\n0                            Braund, Mr. Owen Harris    male  22.0      1   \n1  Cumings, Mrs. John Bradley (Florence Briggs Th...  female  38.0      1   \n2                             Heikkinen, Miss. Laina  female  26.0      0   \n3       Futrelle, Mrs. Jacques Heath (Lily May Peel)  female  35.0      1   \n4                           Allen, Mr. William Henry    male  35.0      0   \n\n   Parch            Ticket     Fare Cabin Embarked  \n0      0         A/5 21171   7.2500   NaN        S  \n1      0          PC 17599  71.2833   C85        C  \n2      0  STON/O2. 3101282   7.9250   NaN        S  \n3      0            113803  53.1000  C123        S  \n4      0            373450   8.0500   NaN        S  ",
            "text/html": "<div>\n<style scoped>\n    .dataframe tbody tr th:only-of-type {\n        vertical-align: middle;\n    }\n\n    .dataframe tbody tr th {\n        vertical-align: top;\n    }\n\n    .dataframe thead th {\n        text-align: right;\n    }\n</style>\n<table border=\"1\" class=\"dataframe\">\n  <thead>\n    <tr style=\"text-align: right;\">\n      <th></th>\n      <th>PassengerId</th>\n      <th>Survived</th>\n      <th>Pclass</th>\n      <th>Name</th>\n      <th>Sex</th>\n      <th>Age</th>\n      <th>SibSp</th>\n      <th>Parch</th>\n      <th>Ticket</th>\n      <th>Fare</th>\n      <th>Cabin</th>\n      <th>Embarked</th>\n    </tr>\n  </thead>\n  <tbody>\n    <tr>\n      <th>0</th>\n      <td>1</td>\n      <td>0</td>\n      <td>3</td>\n      <td>Braund, Mr. Owen Harris</td>\n      <td>male</td>\n      <td>22.0</td>\n      <td>1</td>\n      <td>0</td>\n      <td>A/5 21171</td>\n      <td>7.2500</td>\n      <td>NaN</td>\n      <td>S</td>\n    </tr>\n    <tr>\n      <th>1</th>\n      <td>2</td>\n      <td>1</td>\n      <td>1</td>\n      <td>Cumings, Mrs. John Bradley (Florence Briggs Th...</td>\n      <td>female</td>\n      <td>38.0</td>\n      <td>1</td>\n      <td>0</td>\n      <td>PC 17599</td>\n      <td>71.2833</td>\n      <td>C85</td>\n      <td>C</td>\n    </tr>\n    <tr>\n      <th>2</th>\n      <td>3</td>\n      <td>1</td>\n      <td>3</td>\n      <td>Heikkinen, Miss. Laina</td>\n      <td>female</td>\n      <td>26.0</td>\n      <td>0</td>\n      <td>0</td>\n      <td>STON/O2. 3101282</td>\n      <td>7.9250</td>\n      <td>NaN</td>\n      <td>S</td>\n    </tr>\n    <tr>\n      <th>3</th>\n      <td>4</td>\n      <td>1</td>\n      <td>1</td>\n      <td>Futrelle, Mrs. Jacques Heath (Lily May Peel)</td>\n      <td>female</td>\n      <td>35.0</td>\n      <td>1</td>\n      <td>0</td>\n      <td>113803</td>\n      <td>53.1000</td>\n      <td>C123</td>\n      <td>S</td>\n    </tr>\n    <tr>\n      <th>4</th>\n      <td>5</td>\n      <td>0</td>\n      <td>3</td>\n      <td>Allen, Mr. William Henry</td>\n      <td>male</td>\n      <td>35.0</td>\n      <td>0</td>\n      <td>0</td>\n      <td>373450</td>\n      <td>8.0500</td>\n      <td>NaN</td>\n      <td>S</td>\n    </tr>\n  </tbody>\n</table>\n</div>"
          },
          "metadata": {}
        }
      ]
    },
    {
      "cell_type": "code",
      "source": [
        "train_x.head()"
      ],
      "metadata": {
        "execution": {
          "iopub.status.busy": "2023-01-09T01:50:19.455159Z",
          "iopub.execute_input": "2023-01-09T01:50:19.455594Z",
          "iopub.status.idle": "2023-01-09T01:50:19.472837Z",
          "shell.execute_reply.started": "2023-01-09T01:50:19.455556Z",
          "shell.execute_reply": "2023-01-09T01:50:19.471868Z"
        },
        "trusted": true,
        "id": "s8Kn-eIFWv1e",
        "outputId": "4f2b973c-a04c-4927-a9f2-5d1bd4734cf9"
      },
      "execution_count": null,
      "outputs": [
        {
          "execution_count": 8,
          "output_type": "execute_result",
          "data": {
            "text/plain": "   PassengerId  Pclass                                               Name  \\\n0            1       3                            Braund, Mr. Owen Harris   \n1            2       1  Cumings, Mrs. John Bradley (Florence Briggs Th...   \n2            3       3                             Heikkinen, Miss. Laina   \n3            4       1       Futrelle, Mrs. Jacques Heath (Lily May Peel)   \n4            5       3                           Allen, Mr. William Henry   \n\n      Sex   Age  SibSp  Parch            Ticket     Fare Cabin Embarked  \n0    male  22.0      1      0         A/5 21171   7.2500   NaN        S  \n1  female  38.0      1      0          PC 17599  71.2833   C85        C  \n2  female  26.0      0      0  STON/O2. 3101282   7.9250   NaN        S  \n3  female  35.0      1      0            113803  53.1000  C123        S  \n4    male  35.0      0      0            373450   8.0500   NaN        S  ",
            "text/html": "<div>\n<style scoped>\n    .dataframe tbody tr th:only-of-type {\n        vertical-align: middle;\n    }\n\n    .dataframe tbody tr th {\n        vertical-align: top;\n    }\n\n    .dataframe thead th {\n        text-align: right;\n    }\n</style>\n<table border=\"1\" class=\"dataframe\">\n  <thead>\n    <tr style=\"text-align: right;\">\n      <th></th>\n      <th>PassengerId</th>\n      <th>Pclass</th>\n      <th>Name</th>\n      <th>Sex</th>\n      <th>Age</th>\n      <th>SibSp</th>\n      <th>Parch</th>\n      <th>Ticket</th>\n      <th>Fare</th>\n      <th>Cabin</th>\n      <th>Embarked</th>\n    </tr>\n  </thead>\n  <tbody>\n    <tr>\n      <th>0</th>\n      <td>1</td>\n      <td>3</td>\n      <td>Braund, Mr. Owen Harris</td>\n      <td>male</td>\n      <td>22.0</td>\n      <td>1</td>\n      <td>0</td>\n      <td>A/5 21171</td>\n      <td>7.2500</td>\n      <td>NaN</td>\n      <td>S</td>\n    </tr>\n    <tr>\n      <th>1</th>\n      <td>2</td>\n      <td>1</td>\n      <td>Cumings, Mrs. John Bradley (Florence Briggs Th...</td>\n      <td>female</td>\n      <td>38.0</td>\n      <td>1</td>\n      <td>0</td>\n      <td>PC 17599</td>\n      <td>71.2833</td>\n      <td>C85</td>\n      <td>C</td>\n    </tr>\n    <tr>\n      <th>2</th>\n      <td>3</td>\n      <td>3</td>\n      <td>Heikkinen, Miss. Laina</td>\n      <td>female</td>\n      <td>26.0</td>\n      <td>0</td>\n      <td>0</td>\n      <td>STON/O2. 3101282</td>\n      <td>7.9250</td>\n      <td>NaN</td>\n      <td>S</td>\n    </tr>\n    <tr>\n      <th>3</th>\n      <td>4</td>\n      <td>1</td>\n      <td>Futrelle, Mrs. Jacques Heath (Lily May Peel)</td>\n      <td>female</td>\n      <td>35.0</td>\n      <td>1</td>\n      <td>0</td>\n      <td>113803</td>\n      <td>53.1000</td>\n      <td>C123</td>\n      <td>S</td>\n    </tr>\n    <tr>\n      <th>4</th>\n      <td>5</td>\n      <td>3</td>\n      <td>Allen, Mr. William Henry</td>\n      <td>male</td>\n      <td>35.0</td>\n      <td>0</td>\n      <td>0</td>\n      <td>373450</td>\n      <td>8.0500</td>\n      <td>NaN</td>\n      <td>S</td>\n    </tr>\n  </tbody>\n</table>\n</div>"
          },
          "metadata": {}
        }
      ]
    },
    {
      "cell_type": "code",
      "source": [
        "train_y.head()"
      ],
      "metadata": {
        "execution": {
          "iopub.status.busy": "2023-01-09T01:50:29.916752Z",
          "iopub.execute_input": "2023-01-09T01:50:29.917147Z",
          "iopub.status.idle": "2023-01-09T01:50:29.925733Z",
          "shell.execute_reply.started": "2023-01-09T01:50:29.917106Z",
          "shell.execute_reply": "2023-01-09T01:50:29.924517Z"
        },
        "trusted": true,
        "id": "S1vZP8WcWv1e",
        "outputId": "e3b7ad80-f50f-42ac-add6-64c0cd5deffa"
      },
      "execution_count": null,
      "outputs": [
        {
          "execution_count": 9,
          "output_type": "execute_result",
          "data": {
            "text/plain": "0    0\n1    1\n2    1\n3    1\n4    0\nName: Survived, dtype: int64"
          },
          "metadata": {}
        }
      ]
    },
    {
      "cell_type": "code",
      "source": [
        "from sklearn.preprocessing import LabelEncoder\n",
        "\n",
        "train_x = train_x.drop(['PassengerId', 'Name', 'Ticket', 'Cabin'], axis = 1)\n",
        "test_x = test_x.drop(['PassengerId', 'Name', 'Ticket', 'Cabin'], axis = 1)\n",
        "\n",
        "for c in ['Sex', 'Embarked']:\n",
        "    le = LabelEncoder()\n",
        "    le.fit(train_x[c].fillna('NA'))\n",
        "    \n",
        "    train_x[c] = le.transform(train_x[c].fillna('NA'))\n",
        "    test_x[c] = le.transform(test_x[c].fillna('NA'))"
      ],
      "metadata": {
        "execution": {
          "iopub.status.busy": "2023-01-09T02:06:51.032044Z",
          "iopub.execute_input": "2023-01-09T02:06:51.032476Z",
          "iopub.status.idle": "2023-01-09T02:06:51.049590Z",
          "shell.execute_reply.started": "2023-01-09T02:06:51.032441Z",
          "shell.execute_reply": "2023-01-09T02:06:51.047997Z"
        },
        "trusted": true,
        "id": "0WLCvIdnWv1f"
      },
      "execution_count": null,
      "outputs": []
    },
    {
      "cell_type": "code",
      "source": [
        "train_x.head()"
      ],
      "metadata": {
        "execution": {
          "iopub.status.busy": "2023-01-09T02:07:06.372658Z",
          "iopub.execute_input": "2023-01-09T02:07:06.373059Z",
          "iopub.status.idle": "2023-01-09T02:07:06.387487Z",
          "shell.execute_reply.started": "2023-01-09T02:07:06.373032Z",
          "shell.execute_reply": "2023-01-09T02:07:06.386118Z"
        },
        "trusted": true,
        "id": "AR5eQILqWv1f",
        "outputId": "49681f6e-8d4f-4f91-cf0f-40fdf53e9cb9"
      },
      "execution_count": null,
      "outputs": [
        {
          "execution_count": 13,
          "output_type": "execute_result",
          "data": {
            "text/plain": "   Pclass  Sex   Age  SibSp  Parch     Fare  Embarked\n0       3    1  22.0      1      0   7.2500         3\n1       1    0  38.0      1      0  71.2833         0\n2       3    0  26.0      0      0   7.9250         3\n3       1    0  35.0      1      0  53.1000         3\n4       3    1  35.0      0      0   8.0500         3",
            "text/html": "<div>\n<style scoped>\n    .dataframe tbody tr th:only-of-type {\n        vertical-align: middle;\n    }\n\n    .dataframe tbody tr th {\n        vertical-align: top;\n    }\n\n    .dataframe thead th {\n        text-align: right;\n    }\n</style>\n<table border=\"1\" class=\"dataframe\">\n  <thead>\n    <tr style=\"text-align: right;\">\n      <th></th>\n      <th>Pclass</th>\n      <th>Sex</th>\n      <th>Age</th>\n      <th>SibSp</th>\n      <th>Parch</th>\n      <th>Fare</th>\n      <th>Embarked</th>\n    </tr>\n  </thead>\n  <tbody>\n    <tr>\n      <th>0</th>\n      <td>3</td>\n      <td>1</td>\n      <td>22.0</td>\n      <td>1</td>\n      <td>0</td>\n      <td>7.2500</td>\n      <td>3</td>\n    </tr>\n    <tr>\n      <th>1</th>\n      <td>1</td>\n      <td>0</td>\n      <td>38.0</td>\n      <td>1</td>\n      <td>0</td>\n      <td>71.2833</td>\n      <td>0</td>\n    </tr>\n    <tr>\n      <th>2</th>\n      <td>3</td>\n      <td>0</td>\n      <td>26.0</td>\n      <td>0</td>\n      <td>0</td>\n      <td>7.9250</td>\n      <td>3</td>\n    </tr>\n    <tr>\n      <th>3</th>\n      <td>1</td>\n      <td>0</td>\n      <td>35.0</td>\n      <td>1</td>\n      <td>0</td>\n      <td>53.1000</td>\n      <td>3</td>\n    </tr>\n    <tr>\n      <th>4</th>\n      <td>3</td>\n      <td>1</td>\n      <td>35.0</td>\n      <td>0</td>\n      <td>0</td>\n      <td>8.0500</td>\n      <td>3</td>\n    </tr>\n  </tbody>\n</table>\n</div>"
          },
          "metadata": {}
        }
      ]
    },
    {
      "cell_type": "code",
      "source": [
        "test_x.head()"
      ],
      "metadata": {
        "execution": {
          "iopub.status.busy": "2023-01-09T02:07:32.043580Z",
          "iopub.execute_input": "2023-01-09T02:07:32.044019Z",
          "iopub.status.idle": "2023-01-09T02:07:32.061827Z",
          "shell.execute_reply.started": "2023-01-09T02:07:32.043986Z",
          "shell.execute_reply": "2023-01-09T02:07:32.060561Z"
        },
        "trusted": true,
        "id": "M7c9-7QBWv1f",
        "outputId": "ee7dbefd-5f0e-426f-ddf3-f56106f0d5bc"
      },
      "execution_count": null,
      "outputs": [
        {
          "execution_count": 14,
          "output_type": "execute_result",
          "data": {
            "text/plain": "   Pclass  Sex   Age  SibSp  Parch     Fare  Embarked\n0       3    1  34.5      0      0   7.8292         2\n1       3    0  47.0      1      0   7.0000         3\n2       2    1  62.0      0      0   9.6875         2\n3       3    1  27.0      0      0   8.6625         3\n4       3    0  22.0      1      1  12.2875         3",
            "text/html": "<div>\n<style scoped>\n    .dataframe tbody tr th:only-of-type {\n        vertical-align: middle;\n    }\n\n    .dataframe tbody tr th {\n        vertical-align: top;\n    }\n\n    .dataframe thead th {\n        text-align: right;\n    }\n</style>\n<table border=\"1\" class=\"dataframe\">\n  <thead>\n    <tr style=\"text-align: right;\">\n      <th></th>\n      <th>Pclass</th>\n      <th>Sex</th>\n      <th>Age</th>\n      <th>SibSp</th>\n      <th>Parch</th>\n      <th>Fare</th>\n      <th>Embarked</th>\n    </tr>\n  </thead>\n  <tbody>\n    <tr>\n      <th>0</th>\n      <td>3</td>\n      <td>1</td>\n      <td>34.5</td>\n      <td>0</td>\n      <td>0</td>\n      <td>7.8292</td>\n      <td>2</td>\n    </tr>\n    <tr>\n      <th>1</th>\n      <td>3</td>\n      <td>0</td>\n      <td>47.0</td>\n      <td>1</td>\n      <td>0</td>\n      <td>7.0000</td>\n      <td>3</td>\n    </tr>\n    <tr>\n      <th>2</th>\n      <td>2</td>\n      <td>1</td>\n      <td>62.0</td>\n      <td>0</td>\n      <td>0</td>\n      <td>9.6875</td>\n      <td>2</td>\n    </tr>\n    <tr>\n      <th>3</th>\n      <td>3</td>\n      <td>1</td>\n      <td>27.0</td>\n      <td>0</td>\n      <td>0</td>\n      <td>8.6625</td>\n      <td>3</td>\n    </tr>\n    <tr>\n      <th>4</th>\n      <td>3</td>\n      <td>0</td>\n      <td>22.0</td>\n      <td>1</td>\n      <td>1</td>\n      <td>12.2875</td>\n      <td>3</td>\n    </tr>\n  </tbody>\n</table>\n</div>"
          },
          "metadata": {}
        }
      ]
    },
    {
      "cell_type": "code",
      "source": [
        "from xgboost import XGBClassifier\n",
        "\n",
        "model = XGBClassifier(n_estimators = 20, random_state = 60)\n",
        "model.fit(train_x, train_y)\n",
        "\n",
        "pred = model.predict_proba(test_x)[:,1]\n",
        "\n",
        "pred_label = np.where(pred >0.5, 1, 0)\n",
        "\n",
        "submission = pd.DataFrame({'PassengerId':test['PassengerId'], 'Survived': pred_label})\n",
        "submission.to_csv('submission0109 basic.csv', index = False)"
      ],
      "metadata": {
        "execution": {
          "iopub.status.busy": "2023-01-09T02:12:34.968370Z",
          "iopub.execute_input": "2023-01-09T02:12:34.968724Z",
          "iopub.status.idle": "2023-01-09T02:12:35.186649Z",
          "shell.execute_reply.started": "2023-01-09T02:12:34.968697Z",
          "shell.execute_reply": "2023-01-09T02:12:35.185704Z"
        },
        "trusted": true,
        "id": "CJVGHQe5Wv1g"
      },
      "execution_count": null,
      "outputs": []
    },
    {
      "cell_type": "code",
      "source": [],
      "metadata": {
        "id": "HIiOyt5iWv1g"
      },
      "execution_count": null,
      "outputs": []
    }
  ]
}